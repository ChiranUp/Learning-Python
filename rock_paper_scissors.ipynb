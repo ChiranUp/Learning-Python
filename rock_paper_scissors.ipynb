{
 "cells": [
  {
   "cell_type": "code",
   "execution_count": 1,
   "id": "60afde22-8137-4fbc-a85d-58315ef3854b",
   "metadata": {},
   "outputs": [],
   "source": [
    "import random"
   ]
  },
  {
   "cell_type": "code",
   "execution_count": 10,
   "id": "1cb55362-a383-442d-9e3a-eef6a6504cd7",
   "metadata": {},
   "outputs": [
    {
     "name": "stdin",
     "output_type": "stream",
     "text": [
      "Enter your choice: paper\n"
     ]
    },
    {
     "name": "stdout",
     "output_type": "stream",
     "text": [
      "\n",
      "User's choice: paper\n",
      "Computers's choice: scissors\n",
      "\n",
      "Computer won, You lose!\n"
     ]
    }
   ],
   "source": [
    "import random\n",
    "\n",
    "data = ['rock', 'paper', 'scissors']\n",
    "\n",
    "user_choice = input(\"Enter your choice:\").lower()\n",
    "comp_choice = random.choice(data)\n",
    "\n",
    "if user_choice not in data:\n",
    "    print(\"Invalid Input!!\")\n",
    "\n",
    "else:\n",
    "    print(\"\\nUser's choice:\",user_choice)\n",
    "    print(\"Computers's choice:\", comp_choice)\n",
    "\n",
    "    \n",
    "    if user_choice == comp_choice:\n",
    "        print(\"\\nIt's a tie!\")\n",
    "    \n",
    "    elif user_choice == \"rock\":\n",
    "        if comp_choice == \"paper\":\n",
    "            print(\"\\nComputer won, You lose!\")\n",
    "        else:\n",
    "            print(\"\\nYou won, Computer lose!\")\n",
    "    \n",
    "    elif user_choice == \"paper\":\n",
    "        if comp_choice == \"scissors\":\n",
    "            print(\"\\nComputer won, You lose!\")\n",
    "        else:\n",
    "            print(\"\\nYou won, Computer lose!\")\n",
    "    \n",
    "    elif user_choice == \"scissors\":\n",
    "        if comp_choice == \"rock\":\n",
    "            print(\"\\nComputer won, You lose!\")\n",
    "        else:\n",
    "            print(\"\\nYou won, Computer lose!\")"
   ]
  },
  {
   "cell_type": "code",
   "execution_count": null,
   "id": "52790788-9254-4df6-ae71-29696b2746ea",
   "metadata": {},
   "outputs": [],
   "source": []
  }
 ],
 "metadata": {
  "kernelspec": {
   "display_name": "Python 3 (ipykernel)",
   "language": "python",
   "name": "python3"
  },
  "language_info": {
   "codemirror_mode": {
    "name": "ipython",
    "version": 3
   },
   "file_extension": ".py",
   "mimetype": "text/x-python",
   "name": "python",
   "nbconvert_exporter": "python",
   "pygments_lexer": "ipython3",
   "version": "3.13.1"
  }
 },
 "nbformat": 4,
 "nbformat_minor": 5
}
